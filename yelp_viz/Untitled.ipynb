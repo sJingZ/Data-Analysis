{
 "cells": [
  {
   "cell_type": "code",
   "execution_count": 123,
   "id": "b8681c5e-e26b-482f-b0ed-f917312344e8",
   "metadata": {},
   "outputs": [],
   "source": [
    "import numpy as np\n",
    "import re\n",
    "import json"
   ]
  },
  {
   "cell_type": "code",
   "execution_count": 70,
   "id": "45beb584-a956-43b6-8631-c463abdd1467",
   "metadata": {},
   "outputs": [],
   "source": [
    "from PIL import Image, ImageDraw"
   ]
  },
  {
   "cell_type": "code",
   "execution_count": 41,
   "id": "9e63c2b6-7bc4-42e9-85ee-440186529d9f",
   "metadata": {},
   "outputs": [],
   "source": [
    "from paddleocr import PaddleOCR, draw_ocr"
   ]
  },
  {
   "cell_type": "code",
   "execution_count": 93,
   "id": "b5075ba3",
   "metadata": {
    "scrolled": true
   },
   "outputs": [],
   "source": [
    "# Paddleocr目前支持的多语言语种可以通过修改lang参数进行切换\n",
    "# 例如`ch`, `en`, `fr`, `german`, `korean`, `japan`\n",
    "# ocr = PaddleOCR(use_angle_cls=True, lang=\"ch\")"
   ]
  },
  {
   "cell_type": "code",
   "execution_count": 39,
   "id": "ea082d0d-874f-4fa4-819d-0882df7ff96a",
   "metadata": {},
   "outputs": [],
   "source": [
    "img_path = './ocr_sample_1.png'"
   ]
  },
  {
   "cell_type": "code",
   "execution_count": 86,
   "id": "1c404f89-6f58-4b76-9bee-0987d50e11fc",
   "metadata": {},
   "outputs": [],
   "source": [
    "output = !paddleocr --image_dir ./ocr_sample_1.png --use_angle_cls false --lang ch --use_gpu false"
   ]
  },
  {
   "cell_type": "code",
   "execution_count": 94,
   "id": "8de05ad2-98d5-4f50-bc24-a6e76d740d88",
   "metadata": {},
   "outputs": [
    {
     "data": {
      "text/plain": [
       "[\"[2024/01/22 16:19:12] ppocr DEBUG: Namespace(alpha=1.0, alphacolor=(255, 255, 255), benchmark=False, beta=1.0, binarize=False, cls_batch_num=6, cls_image_shape='3, 48, 192', cls_model_dir='C:\\\\\\\\Users\\\\\\\\86136/.paddleocr/whl\\\\\\\\cls\\\\\\\\ch_ppocr_mobile_v2.0_cls_infer', cls_thresh=0.9, cpu_threads=10, crop_res_save_dir='./output', det=True, det_algorithm='DB', det_box_type='quad', det_db_box_thresh=0.6, det_db_score_mode='fast', det_db_thresh=0.3, det_db_unclip_ratio=1.5, det_east_cover_thresh=0.1, det_east_nms_thresh=0.2, det_east_score_thresh=0.8, det_limit_side_len=960, det_limit_type='max', det_model_dir='C:\\\\\\\\Users\\\\\\\\86136/.paddleocr/whl\\\\\\\\det\\\\\\\\ch\\\\\\\\ch_PP-OCRv4_det_infer', det_pse_box_thresh=0.85, det_pse_min_area=16, det_pse_scale=1, det_pse_thresh=0, det_sast_nms_thresh=0.2, det_sast_score_thresh=0.5, draw_img_save_dir='./inference_results', drop_score=0.5, e2e_algorithm='PGNet', e2e_char_dict_path='./ppocr/utils/ic15_dict.txt', e2e_limit_side_len=768, e2e_limit_type='max', e2e_model_dir=None, e2e_pgnet_mode='fast', e2e_pgnet_score_thresh=0.5, e2e_pgnet_valid_set='totaltext', enable_mkldnn=False, fourier_degree=5, gpu_id=0, gpu_mem=500, help='==SUPPRESS==', image_dir='./ocr_sample_1.png', image_orientation=False, invert=False, ir_optim=True, kie_algorithm='LayoutXLM', label_list=['0', '180'], lang='ch', layout=True, layout_dict_path=None, layout_model_dir=None, layout_nms_threshold=0.5, layout_score_threshold=0.5, max_batch_size=10, max_text_length=25, merge_no_span_structure=True, min_subgraph_size=15, mode='structure', ocr=True, ocr_order_method=None, ocr_version='PP-OCRv4', output='./output', page_num=0, precision='fp32', process_id=0, re_model_dir=None, rec=True, rec_algorithm='SVTR_LCNet', rec_batch_num=6, rec_char_dict_path='D:\\\\\\\\Apps\\\\\\\\envs\\\\\\\\paddle_ocr\\\\\\\\lib\\\\\\\\site-packages\\\\\\\\paddleocr\\\\\\\\ppocr\\\\\\\\utils\\\\\\\\ppocr_keys_v1.txt', rec_image_inverse=True, rec_image_shape='3, 48, 320', rec_model_dir='C:\\\\\\\\Users\\\\\\\\86136/.paddleocr/whl\\\\\\\\rec\\\\\\\\ch\\\\\\\\ch_PP-OCRv4_rec_infer', recovery=False, save_crop_res=False, save_log_path='./log_output/', scales=[8, 16, 32], ser_dict_path='../train_data/XFUND/class_list_xfun.txt', ser_model_dir=None, show_log=True, sr_batch_num=1, sr_image_shape='3, 32, 128', sr_model_dir=None, structure_version='PP-StructureV2', table=True, table_algorithm='TableAttn', table_char_dict_path=None, table_max_len=488, table_model_dir=None, total_process_num=1, type='ocr', use_angle_cls=False, use_dilation=False, use_gpu=False, use_mp=False, use_npu=False, use_onnx=False, use_pdf2docx_api=False, use_pdserving=False, use_space_char=True, use_tensorrt=False, use_visual_backbone=True, use_xpu=False, vis_font_path='./doc/fonts/simfang.ttf', warmup=False)\",\n",
       " '[2024/01/22 16:19:13] ppocr INFO: **********./ocr_sample_1.png**********',\n",
       " '[2024/01/22 16:19:14] ppocr DEBUG: dt_boxes num : 5, elapsed : 0.8572854995727539',\n",
       " '[2024/01/22 16:19:15] ppocr DEBUG: rec_res num  : 5, elapsed : 1.0534040927886963',\n",
       " \"[2024/01/22 16:19:15] ppocr INFO: [[[756.0, 12.0], [872.0, 11.0], [879.0, 655.0], [763.0, 655.0]], ('起紧珍敦情过目', 0.6665648221969604)]\",\n",
       " \"[2024/01/22 16:19:15] ppocr INFO: [[[195.0, 105.0], [307.0, 105.0], [307.0, 381.0], [195.0, 381.0]], ('親却词', 0.6938280463218689)]\",\n",
       " \"[2024/01/22 16:19:15] ppocr INFO: [[[304.0, 106.0], [395.0, 101.0], [419.0, 521.0], [328.0, 527.0]], ('室刻七老人', 0.6702022552490234)]\",\n",
       " \"[2024/01/22 16:19:15] ppocr INFO: [[[471.0, 108.0], [567.0, 111.0], [551.0, 508.0], [455.0, 505.0]], ('风静人下会', 0.8225591778755188)]\",\n",
       " \"[2024/01/22 16:19:15] ppocr INFO: [[[90.0, 125.0], [174.0, 125.0], [174.0, 183.0], [90.0, 183.0]], ('垃', 0.5907098650932312)]\",\n",
       " 'D:\\\\Apps\\\\envs\\\\paddle_ocr\\\\lib\\\\site-packages\\\\setuptools\\\\sandbox.py:13: DeprecationWarning: pkg_resources is deprecated as an API. See https://setuptools.pypa.io/en/latest/pkg_resources.html',\n",
       " '  import pkg_resources',\n",
       " \"D:\\\\Apps\\\\envs\\\\paddle_ocr\\\\lib\\\\site-packages\\\\pkg_resources\\\\__init__.py:2871: DeprecationWarning: Deprecated call to `pkg_resources.declare_namespace('mpl_toolkits')`.\",\n",
       " 'Implementing implicit namespace packages (as specified in PEP 420) is preferred to `pkg_resources.declare_namespace`. See https://setuptools.pypa.io/en/latest/references/keywords.html#keyword-namespace-packages',\n",
       " '  declare_namespace(pkg)',\n",
       " \"D:\\\\Apps\\\\envs\\\\paddle_ocr\\\\lib\\\\site-packages\\\\pkg_resources\\\\__init__.py:2871: DeprecationWarning: Deprecated call to `pkg_resources.declare_namespace('google')`.\",\n",
       " 'Implementing implicit namespace packages (as specified in PEP 420) is preferred to `pkg_resources.declare_namespace`. See https://setuptools.pypa.io/en/latest/references/keywords.html#keyword-namespace-packages',\n",
       " '  declare_namespace(pkg)']"
      ]
     },
     "execution_count": 94,
     "metadata": {},
     "output_type": "execute_result"
    }
   ],
   "source": [
    "output"
   ]
  },
  {
   "cell_type": "code",
   "execution_count": 98,
   "id": "06afe1ad-861a-4bbc-bfd1-bad8353e9462",
   "metadata": {},
   "outputs": [
    {
     "name": "stdout",
     "output_type": "stream",
     "text": [
      "[2024/01/22 16:19:15] ppocr INFO: [[[756.0, 12.0], [872.0, 11.0], [879.0, 655.0], [763.0, 655.0]], ('起紧珍敦情过目', 0.6665648221969604)]\n",
      "[2024/01/22 16:19:15] ppocr INFO: [[[195.0, 105.0], [307.0, 105.0], [307.0, 381.0], [195.0, 381.0]], ('親却词', 0.6938280463218689)]\n",
      "[2024/01/22 16:19:15] ppocr INFO: [[[304.0, 106.0], [395.0, 101.0], [419.0, 521.0], [328.0, 527.0]], ('室刻七老人', 0.6702022552490234)]\n",
      "[2024/01/22 16:19:15] ppocr INFO: [[[471.0, 108.0], [567.0, 111.0], [551.0, 508.0], [455.0, 505.0]], ('风静人下会', 0.8225591778755188)]\n",
      "[2024/01/22 16:19:15] ppocr INFO: [[[90.0, 125.0], [174.0, 125.0], [174.0, 183.0], [90.0, 183.0]], ('垃', 0.5907098650932312)]\n"
     ]
    },
    {
     "data": {
      "text/plain": [
       "[[[756.0, 12.0], [872.0, 11.0], [879.0, 655.0], [763.0, 655.0]],\n",
       " [[195.0, 105.0], [307.0, 105.0], [307.0, 381.0], [195.0, 381.0]],\n",
       " [[304.0, 106.0], [395.0, 101.0], [419.0, 521.0], [328.0, 527.0]],\n",
       " [[471.0, 108.0], [567.0, 111.0], [551.0, 508.0], [455.0, 505.0]],\n",
       " [[90.0, 125.0], [174.0, 125.0], [174.0, 183.0], [90.0, 183.0]]]"
      ]
     },
     "execution_count": 98,
     "metadata": {},
     "output_type": "execute_result"
    }
   ],
   "source": [
    "positions = []\n",
    "texts = []\n",
    "scores = []\n",
    "\n",
    "for o in output:\n",
    "    if re.match(r\".*ppocr INFO: \\[(.*), \\('(.*)', [0-9]*.[0-9]*\\)\\]\", o):\n",
    "        print(o)\n",
    "        res = re.match(r\".*ppocr INFO: \\[(.*), \\('(.*)', [0-9]*.[0-9]*\\)\\]\", o)\n",
    "        pos = res.group(1)\n",
    "        txt = res.group(2)\n",
    "        sc =re.match(r\".*ppocr INFO: \\[(.*), \\('(.*)', ([0-9]*.[0-9]*)\\)\\]\", o).group(3)\n",
    "        positions+= [eval(pos)]\n",
    "        texts+= [txt]\n",
    "        scores+= [float(sc)]\n",
    "positions"
   ]
  },
  {
   "cell_type": "code",
   "execution_count": 99,
   "id": "e0bd0461-f0ac-445a-8f23-4fa36ce20cb1",
   "metadata": {},
   "outputs": [],
   "source": [
    "image = Image.open(img_path).convert('RGB')\n",
    "im_show = draw_ocr(image, positions, texts, scores, font_path='./fonts/simfang.ttf')\n",
    "im_show = Image.fromarray(im_show)\n",
    "im_show.show()\n",
    "# im_show.save('result.jpg')"
   ]
  },
  {
   "cell_type": "code",
   "execution_count": null,
   "id": "f5e39c90-d2f0-4212-93e2-16ffce29c997",
   "metadata": {},
   "outputs": [],
   "source": []
  },
  {
   "cell_type": "code",
   "execution_count": null,
   "id": "0194ab24-01c0-4d0f-bec6-491c036141a5",
   "metadata": {},
   "outputs": [],
   "source": []
  },
  {
   "cell_type": "code",
   "execution_count": 82,
   "id": "071c39a3-301c-4b50-bbc8-4f5323cc7a1e",
   "metadata": {},
   "outputs": [],
   "source": [
    "image = Image.open(img_path).convert('RGB')\n",
    "draw = ImageDraw.Draw(image)\n"
   ]
  },
  {
   "cell_type": "code",
   "execution_count": 83,
   "id": "f2078df9-8749-4401-8c51-5a9c6ce2c3a8",
   "metadata": {},
   "outputs": [],
   "source": [
    "draw.rectangle((195.0, 105.0, 200.0, 200.0), outline=\"red\", width=4)"
   ]
  },
  {
   "cell_type": "code",
   "execution_count": 84,
   "id": "841fc894-6730-4b1a-be2d-ec9a1fff73ab",
   "metadata": {},
   "outputs": [],
   "source": [
    "image.show()"
   ]
  },
  {
   "cell_type": "code",
   "execution_count": null,
   "id": "73f58a5f-0057-4b51-8bfb-6a67e70f0cf0",
   "metadata": {},
   "outputs": [],
   "source": []
  },
  {
   "cell_type": "code",
   "execution_count": null,
   "id": "d3e86d6c-cd2a-4050-a558-7e249428b20f",
   "metadata": {},
   "outputs": [],
   "source": []
  },
  {
   "cell_type": "code",
   "execution_count": 100,
   "id": "c676d8dd-2b60-43e4-b405-f3f5bf992b43",
   "metadata": {},
   "outputs": [],
   "source": [
    "def convert_image(image, threshold=None):\n",
    "    # 阈值 控制二值化程度，不能超过256，[200, 256]\n",
    "    # 适当调大阈值，可以提高文本识别率，经过测试有效。\n",
    "    if threshold is None:\n",
    "        threshold = 200\n",
    "    print('threshold : ', threshold)\n",
    "    # 首先进行图片灰度处理\n",
    "    image = image.convert(\"L\")\n",
    "    pixels = image.load()\n",
    "    # 在进行二值化\n",
    "    for x in range(image.width):\n",
    "        for y in range(image.height):\n",
    "            if pixels[x, y] > threshold:\n",
    "                pixels[x, y] = 255\n",
    "            else:\n",
    "                pixels[x, y] = 0\n",
    "    return image"
   ]
  },
  {
   "cell_type": "code",
   "execution_count": 112,
   "id": "8eff6297-7f3e-4256-b2e4-6af740e0b010",
   "metadata": {},
   "outputs": [
    {
     "name": "stdout",
     "output_type": "stream",
     "text": [
      "threshold :  200\n"
     ]
    }
   ],
   "source": [
    "img = Image.open(img_path)\n",
    "# Image图像转换为ndarray数组\n",
    "img_1 = np.array(img)\n",
    "img_2 = convert_image(img, 200)\n",
    "im = Image.fromarray(img_1)\n",
    "# im.show()\n",
    "im.save(\"ocr_sample_1_v1.png\")"
   ]
  },
  {
   "cell_type": "code",
   "execution_count": null,
   "id": "b9756e56-0be6-478c-8658-b7724c685050",
   "metadata": {},
   "outputs": [],
   "source": []
  },
  {
   "cell_type": "code",
   "execution_count": null,
   "id": "ea9b5c65-6bd8-491b-8ed8-2d0a2566259d",
   "metadata": {},
   "outputs": [],
   "source": []
  },
  {
   "cell_type": "code",
   "execution_count": null,
   "id": "36e2e075-3b4a-4449-b30b-4b5bfe1d043a",
   "metadata": {},
   "outputs": [],
   "source": []
  },
  {
   "cell_type": "code",
   "execution_count": null,
   "id": "a2b717cc-3965-4955-8bd8-f13a72f9fa14",
   "metadata": {},
   "outputs": [],
   "source": []
  },
  {
   "cell_type": "code",
   "execution_count": 119,
   "id": "b6ce73fa-49bb-41c8-b7ba-84344dc997a7",
   "metadata": {},
   "outputs": [],
   "source": [
    "output = !paddleocr --image_dir ./ocr_sample_2.png --use_angle_cls false --lang ch --use_gpu false"
   ]
  },
  {
   "cell_type": "code",
   "execution_count": 120,
   "id": "1b259759-2cd8-4d99-b849-b80d2f56944c",
   "metadata": {},
   "outputs": [
    {
     "data": {
      "text/plain": [
       "[\"[2024/01/22 20:28:06] ppocr DEBUG: Namespace(alpha=1.0, alphacolor=(255, 255, 255), benchmark=False, beta=1.0, binarize=False, cls_batch_num=6, cls_image_shape='3, 48, 192', cls_model_dir='C:\\\\\\\\Users\\\\\\\\86136/.paddleocr/whl\\\\\\\\cls\\\\\\\\ch_ppocr_mobile_v2.0_cls_infer', cls_thresh=0.9, cpu_threads=10, crop_res_save_dir='./output', det=True, det_algorithm='DB', det_box_type='quad', det_db_box_thresh=0.6, det_db_score_mode='fast', det_db_thresh=0.3, det_db_unclip_ratio=1.5, det_east_cover_thresh=0.1, det_east_nms_thresh=0.2, det_east_score_thresh=0.8, det_limit_side_len=960, det_limit_type='max', det_model_dir='C:\\\\\\\\Users\\\\\\\\86136/.paddleocr/whl\\\\\\\\det\\\\\\\\ch\\\\\\\\ch_PP-OCRv4_det_infer', det_pse_box_thresh=0.85, det_pse_min_area=16, det_pse_scale=1, det_pse_thresh=0, det_sast_nms_thresh=0.2, det_sast_score_thresh=0.5, draw_img_save_dir='./inference_results', drop_score=0.5, e2e_algorithm='PGNet', e2e_char_dict_path='./ppocr/utils/ic15_dict.txt', e2e_limit_side_len=768, e2e_limit_type='max', e2e_model_dir=None, e2e_pgnet_mode='fast', e2e_pgnet_score_thresh=0.5, e2e_pgnet_valid_set='totaltext', enable_mkldnn=False, fourier_degree=5, gpu_id=0, gpu_mem=500, help='==SUPPRESS==', image_dir='./ocr_sample_2.png', image_orientation=False, invert=False, ir_optim=True, kie_algorithm='LayoutXLM', label_list=['0', '180'], lang='ch', layout=True, layout_dict_path=None, layout_model_dir=None, layout_nms_threshold=0.5, layout_score_threshold=0.5, max_batch_size=10, max_text_length=25, merge_no_span_structure=True, min_subgraph_size=15, mode='structure', ocr=True, ocr_order_method=None, ocr_version='PP-OCRv4', output='./output', page_num=0, precision='fp32', process_id=0, re_model_dir=None, rec=True, rec_algorithm='SVTR_LCNet', rec_batch_num=6, rec_char_dict_path='D:\\\\\\\\Apps\\\\\\\\envs\\\\\\\\paddle_ocr\\\\\\\\lib\\\\\\\\site-packages\\\\\\\\paddleocr\\\\\\\\ppocr\\\\\\\\utils\\\\\\\\ppocr_keys_v1.txt', rec_image_inverse=True, rec_image_shape='3, 48, 320', rec_model_dir='C:\\\\\\\\Users\\\\\\\\86136/.paddleocr/whl\\\\\\\\rec\\\\\\\\ch\\\\\\\\ch_PP-OCRv4_rec_infer', recovery=False, save_crop_res=False, save_log_path='./log_output/', scales=[8, 16, 32], ser_dict_path='../train_data/XFUND/class_list_xfun.txt', ser_model_dir=None, show_log=True, sr_batch_num=1, sr_image_shape='3, 32, 128', sr_model_dir=None, structure_version='PP-StructureV2', table=True, table_algorithm='TableAttn', table_char_dict_path=None, table_max_len=488, table_model_dir=None, total_process_num=1, type='ocr', use_angle_cls=False, use_dilation=False, use_gpu=False, use_mp=False, use_npu=False, use_onnx=False, use_pdf2docx_api=False, use_pdserving=False, use_space_char=True, use_tensorrt=False, use_visual_backbone=True, use_xpu=False, vis_font_path='./doc/fonts/simfang.ttf', warmup=False)\",\n",
       " '[2024/01/22 20:28:07] ppocr INFO: **********./ocr_sample_2.png**********',\n",
       " '[2024/01/22 20:28:07] ppocr DEBUG: dt_boxes num : 1, elapsed : 0.034841060638427734',\n",
       " '[2024/01/22 20:28:07] ppocr DEBUG: rec_res num  : 1, elapsed : 0.19051003456115723',\n",
       " \"[2024/01/22 20:28:07] ppocr INFO: [[[10.0, 0.0], [114.0, 0.0], [114.0, 106.0], [10.0, 106.0]], ('静', 0.9993184804916382)]\",\n",
       " 'D:\\\\Apps\\\\envs\\\\paddle_ocr\\\\lib\\\\site-packages\\\\setuptools\\\\sandbox.py:13: DeprecationWarning: pkg_resources is deprecated as an API. See https://setuptools.pypa.io/en/latest/pkg_resources.html',\n",
       " '  import pkg_resources',\n",
       " \"D:\\\\Apps\\\\envs\\\\paddle_ocr\\\\lib\\\\site-packages\\\\pkg_resources\\\\__init__.py:2871: DeprecationWarning: Deprecated call to `pkg_resources.declare_namespace('mpl_toolkits')`.\",\n",
       " 'Implementing implicit namespace packages (as specified in PEP 420) is preferred to `pkg_resources.declare_namespace`. See https://setuptools.pypa.io/en/latest/references/keywords.html#keyword-namespace-packages',\n",
       " '  declare_namespace(pkg)',\n",
       " \"D:\\\\Apps\\\\envs\\\\paddle_ocr\\\\lib\\\\site-packages\\\\pkg_resources\\\\__init__.py:2871: DeprecationWarning: Deprecated call to `pkg_resources.declare_namespace('google')`.\",\n",
       " 'Implementing implicit namespace packages (as specified in PEP 420) is preferred to `pkg_resources.declare_namespace`. See https://setuptools.pypa.io/en/latest/references/keywords.html#keyword-namespace-packages',\n",
       " '  declare_namespace(pkg)']"
      ]
     },
     "execution_count": 120,
     "metadata": {},
     "output_type": "execute_result"
    }
   ],
   "source": [
    "output"
   ]
  },
  {
   "cell_type": "code",
   "execution_count": 121,
   "id": "35e13e08-fc99-41fc-be6e-cba3f39a2a3c",
   "metadata": {},
   "outputs": [
    {
     "name": "stdout",
     "output_type": "stream",
     "text": [
      "[2024/01/22 20:28:07] ppocr INFO: [[[10.0, 0.0], [114.0, 0.0], [114.0, 106.0], [10.0, 106.0]], ('静', 0.9993184804916382)]\n"
     ]
    },
    {
     "data": {
      "text/plain": [
       "[[[10.0, 0.0], [114.0, 0.0], [114.0, 106.0], [10.0, 106.0]]]"
      ]
     },
     "execution_count": 121,
     "metadata": {},
     "output_type": "execute_result"
    }
   ],
   "source": [
    "positions = []\n",
    "texts = []\n",
    "scores = []\n",
    "\n",
    "for o in output:\n",
    "    if re.match(r\".*ppocr INFO: \\[(.*), \\('(.*)', [0-9]*.[0-9]*\\)\\]\", o):\n",
    "        print(o)\n",
    "        res = re.match(r\".*ppocr INFO: \\[(.*), \\('(.*)', [0-9]*.[0-9]*\\)\\]\", o)\n",
    "        pos = res.group(1)\n",
    "        txt = res.group(2)\n",
    "        sc =re.match(r\".*ppocr INFO: \\[(.*), \\('(.*)', ([0-9]*.[0-9]*)\\)\\]\", o).group(3)\n",
    "        positions+= [eval(pos)]\n",
    "        texts+= [txt]\n",
    "        scores+= [float(sc)]\n",
    "positions"
   ]
  },
  {
   "cell_type": "code",
   "execution_count": 122,
   "id": "99cb7b05-c4cc-48e4-80bf-c6961647c038",
   "metadata": {},
   "outputs": [],
   "source": [
    "image = Image.open(img_path).convert('RGB')\n",
    "im_show = draw_ocr(image, positions, texts, scores, font_path='./fonts/simfang.ttf')\n",
    "im_show = Image.fromarray(im_show)\n",
    "im_show.show()\n",
    "# im_show.save('result.jpg')"
   ]
  },
  {
   "cell_type": "code",
   "execution_count": null,
   "id": "23802f3a-fb2f-45c6-8c3e-b5270a8fdf7a",
   "metadata": {},
   "outputs": [],
   "source": []
  },
  {
   "cell_type": "code",
   "execution_count": null,
   "id": "0d34fe82-6403-4836-abcb-acea66258554",
   "metadata": {},
   "outputs": [],
   "source": []
  },
  {
   "cell_type": "code",
   "execution_count": null,
   "id": "103403b5-3677-4313-808b-b8f153d4b732",
   "metadata": {},
   "outputs": [],
   "source": []
  },
  {
   "cell_type": "code",
   "execution_count": null,
   "id": "716d8c72-0e49-405d-9863-08f948bd7705",
   "metadata": {},
   "outputs": [],
   "source": []
  },
  {
   "cell_type": "code",
   "execution_count": 130,
   "id": "f05f8b0b-fe00-4f95-be92-7faf74f39abc",
   "metadata": {},
   "outputs": [],
   "source": [
    "with open(\"ocr_sample_1_results.json\",'r', encoding='UTF-8') as f:\n",
    " \n",
    "# returns JSON object as \n",
    "# a dictionary\n",
    "    res = json.load(f)"
   ]
  },
  {
   "cell_type": "code",
   "execution_count": 145,
   "id": "0ae0505e-5237-41cc-a3ff-7659c55c3c48",
   "metadata": {},
   "outputs": [
    {
     "data": {
      "text/plain": [
       "[{'probability': {'average': 0.8698025346,\n",
       "   'min': 0.5167315602,\n",
       "   'variance': 0.02955561876},\n",
       "  'chars': [{'char': '字',\n",
       "    'location': {'top': 103, 'left': 306, 'width': 99, 'height': 69}},\n",
       "   {'char': '刻',\n",
       "    'location': {'top': 181, 'left': 309, 'width': 99, 'height': 76}},\n",
       "   {'char': '七',\n",
       "    'location': {'top': 266, 'left': 312, 'width': 99, 'height': 60}},\n",
       "   {'char': '江',\n",
       "    'location': {'top': 335, 'left': 315, 'width': 99, 'height': 60}},\n",
       "   {'char': '#',\n",
       "    'location': {'top': 439, 'left': 319, 'width': 98, 'height': 50}},\n",
       "   {'char': '人',\n",
       "    'location': {'top': 489, 'left': 321, 'width': 97, 'height': 32}}],\n",
       "  'words': '字刻七江#人',\n",
       "  'location': {'top': 103, 'left': 306, 'width': 115, 'height': 417}},\n",
       " {'probability': {'average': 0.9387443066,\n",
       "   'min': 0.8901107907,\n",
       "   'variance': 0.002016986953},\n",
       "  'chars': [{'char': '静',\n",
       "    'location': {'top': 109, 'left': 457, 'width': 103, 'height': 168}},\n",
       "   {'char': '人',\n",
       "    'location': {'top': 287, 'left': 455, 'width': 99, 'height': 60}},\n",
       "   {'char': '下',\n",
       "    'location': {'top': 357, 'left': 453, 'width': 99, 'height': 47}},\n",
       "   {'char': '今',\n",
       "    'location': {'top': 414, 'left': 450, 'width': 100, 'height': 86}}],\n",
       "  'words': '静人下今',\n",
       "  'location': {'top': 109, 'left': 450, 'width': 113, 'height': 391}},\n",
       " {'probability': {'average': 0.9059773088,\n",
       "   'min': 0.8133273125,\n",
       "   'variance': 0.004032840021},\n",
       "  'chars': [{'char': '将',\n",
       "    'location': {'top': 5, 'left': 649, 'width': 115, 'height': 94}},\n",
       "   {'char': '来',\n",
       "    'location': {'top': 206, 'left': 658, 'width': 114, 'height': 87}},\n",
       "   {'char': '因',\n",
       "    'location': {'top': 302, 'left': 663, 'width': 113, 'height': 69}},\n",
       "   {'char': '为',\n",
       "    'location': {'top': 381, 'left': 666, 'width': 113, 'height': 55}}],\n",
       "  'words': '将来因为',\n",
       "  'location': {'top': 5, 'left': 649, 'width': 141, 'height': 617}},\n",
       " {'probability': {'average': 0.8479803205,\n",
       "   'min': 0.6673662663,\n",
       "   'variance': 0.01513331197},\n",
       "  'chars': [{'char': '无',\n",
       "    'location': {'top': 134, 'left': 861, 'width': 90, 'height': 68}},\n",
       "   {'char': '作',\n",
       "    'location': {'top': 210, 'left': 864, 'width': 91, 'height': 69}},\n",
       "   {'char': '字',\n",
       "    'location': {'top': 287, 'left': 868, 'width': 91, 'height': 106}},\n",
       "   {'char': '海',\n",
       "    'location': {'top': 401, 'left': 872, 'width': 91, 'height': 80}},\n",
       "   {'char': '天',\n",
       "    'location': {'top': 489, 'left': 876, 'width': 91, 'height': 80}}],\n",
       "  'words': '无作字海天',\n",
       "  'location': {'top': 26, 'left': 857, 'width': 116, 'height': 625}}]"
      ]
     },
     "execution_count": 145,
     "metadata": {},
     "output_type": "execute_result"
    }
   ],
   "source": [
    "res['words_result']"
   ]
  },
  {
   "cell_type": "code",
   "execution_count": null,
   "id": "ba6f0380-e7fa-4d2e-929b-6746bd89b45f",
   "metadata": {},
   "outputs": [],
   "source": []
  },
  {
   "cell_type": "code",
   "execution_count": 146,
   "id": "a8f1bf36-46c5-4e0a-aea6-7d8752d26603",
   "metadata": {},
   "outputs": [],
   "source": [
    "image = Image.open(img_path).convert('RGB')\n",
    "draw = ImageDraw.Draw(image)\n",
    "draw.rectangle((309, 181, 309+99, 76+181), outline = 'red')\n",
    "image.show()\n"
   ]
  },
  {
   "cell_type": "code",
   "execution_count": null,
   "id": "6e53767f-6608-4c19-a3bd-1d355627ead1",
   "metadata": {},
   "outputs": [],
   "source": [
    "image = Image.open(img_path).convert('RGB')\n",
    "im_show = draw_ocr(image, positions, texts, scores, font_path='./fonts/simfang.ttf')\n",
    "im_show = Image.fromarray(im_show)\n",
    "im_show.show()\n",
    "# im_show.save('result.jpg')"
   ]
  }
 ],
 "metadata": {
  "kernelspec": {
   "display_name": "Python 3 (ipykernel)",
   "language": "python",
   "name": "python3"
  },
  "language_info": {
   "codemirror_mode": {
    "name": "ipython",
    "version": 3
   },
   "file_extension": ".py",
   "mimetype": "text/x-python",
   "name": "python",
   "nbconvert_exporter": "python",
   "pygments_lexer": "ipython3",
   "version": "3.8.18"
  }
 },
 "nbformat": 4,
 "nbformat_minor": 5
}
